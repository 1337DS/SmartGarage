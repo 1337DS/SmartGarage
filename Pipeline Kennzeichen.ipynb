{
 "cells": [
  {
   "cell_type": "code",
   "execution_count": 1,
   "id": "df1d614e",
   "metadata": {},
   "outputs": [],
   "source": [
    "import cv2\n",
    "from matplotlib import pyplot as plt\n",
    "import numpy as np\n",
    "import imutils\n",
    "import easyocr\n",
    "import pandas as pd\n",
    "from os import listdir\n",
    "from os.path import isfile, join\n",
    "import pytesseract\n",
    "from PIL import Image\n",
    "# Wichtig!\n",
    "#pip install opencv-python==4.5.4.60"
   ]
  },
  {
   "cell_type": "code",
   "execution_count": 2,
   "id": "8504e397",
   "metadata": {},
   "outputs": [],
   "source": [
    "#img = cv2.imread(r\"D:\\5_Integrationsseminar\\Aufnahmen\\still92.jpg\")\n",
    "img = cv2.imread(r\"D:/5_Integrationsseminar/Bilder/small/KZE_008.jpg\")\n",
    "dir=r\"D:\\5_Integrationsseminar\\Bilder\\small\"\n",
    "dir_cropped=r\"D:\\5_Integrationsseminar\\Bilder\\cropped\"\n",
    "images = [f for f in listdir(dir) if isfile(join(dir, f))]\n",
    "\n",
    "#C:/Users/Kilian/Notebook/5_Semster/test_plates_kaggle/IMG_4134.jpg\n",
    "#gray = cv2.cvtColor(img, cv2.COLOR_BGR2GRAY)\n",
    "#plt.imshow(cv2.cvtColor(gray, cv2.COLOR_BGR2RGB))"
   ]
  },
  {
   "cell_type": "code",
   "execution_count": 3,
   "id": "dc816a6b",
   "metadata": {},
   "outputs": [],
   "source": [
    "# initializing Dataframe\n",
    "df = pd.DataFrame(columns=['Image', 'Cropping', 'Text_easyocr','Text_pytesseract', 'Text_label'])\n",
    "df.Image=images\n",
    "n=-1"
   ]
  },
  {
   "cell_type": "code",
   "execution_count": 4,
   "id": "effb5554",
   "metadata": {},
   "outputs": [
    {
     "data": {
      "text/html": [
       "<div>\n",
       "<style scoped>\n",
       "    .dataframe tbody tr th:only-of-type {\n",
       "        vertical-align: middle;\n",
       "    }\n",
       "\n",
       "    .dataframe tbody tr th {\n",
       "        vertical-align: top;\n",
       "    }\n",
       "\n",
       "    .dataframe thead th {\n",
       "        text-align: right;\n",
       "    }\n",
       "</style>\n",
       "<table border=\"1\" class=\"dataframe\">\n",
       "  <thead>\n",
       "    <tr style=\"text-align: right;\">\n",
       "      <th></th>\n",
       "      <th>Image</th>\n",
       "      <th>Cropping</th>\n",
       "      <th>Text_easyocr</th>\n",
       "      <th>Text_pytesseract</th>\n",
       "      <th>Text_label</th>\n",
       "    </tr>\n",
       "  </thead>\n",
       "  <tbody>\n",
       "    <tr>\n",
       "      <th>0</th>\n",
       "      <td>KZE_001.jpg</td>\n",
       "      <td>NaN</td>\n",
       "      <td>NaN</td>\n",
       "      <td>NaN</td>\n",
       "      <td>NaN</td>\n",
       "    </tr>\n",
       "    <tr>\n",
       "      <th>1</th>\n",
       "      <td>KZE_002.jpg</td>\n",
       "      <td>NaN</td>\n",
       "      <td>NaN</td>\n",
       "      <td>NaN</td>\n",
       "      <td>NaN</td>\n",
       "    </tr>\n",
       "    <tr>\n",
       "      <th>2</th>\n",
       "      <td>KZE_003.jpg</td>\n",
       "      <td>NaN</td>\n",
       "      <td>NaN</td>\n",
       "      <td>NaN</td>\n",
       "      <td>NaN</td>\n",
       "    </tr>\n",
       "    <tr>\n",
       "      <th>3</th>\n",
       "      <td>KZE_004.jpg</td>\n",
       "      <td>NaN</td>\n",
       "      <td>NaN</td>\n",
       "      <td>NaN</td>\n",
       "      <td>NaN</td>\n",
       "    </tr>\n",
       "    <tr>\n",
       "      <th>4</th>\n",
       "      <td>KZE_005.jpg</td>\n",
       "      <td>NaN</td>\n",
       "      <td>NaN</td>\n",
       "      <td>NaN</td>\n",
       "      <td>NaN</td>\n",
       "    </tr>\n",
       "    <tr>\n",
       "      <th>...</th>\n",
       "      <td>...</td>\n",
       "      <td>...</td>\n",
       "      <td>...</td>\n",
       "      <td>...</td>\n",
       "      <td>...</td>\n",
       "    </tr>\n",
       "    <tr>\n",
       "      <th>113</th>\n",
       "      <td>KZE_114.jpg</td>\n",
       "      <td>NaN</td>\n",
       "      <td>NaN</td>\n",
       "      <td>NaN</td>\n",
       "      <td>NaN</td>\n",
       "    </tr>\n",
       "    <tr>\n",
       "      <th>114</th>\n",
       "      <td>KZE_115.jpg</td>\n",
       "      <td>NaN</td>\n",
       "      <td>NaN</td>\n",
       "      <td>NaN</td>\n",
       "      <td>NaN</td>\n",
       "    </tr>\n",
       "    <tr>\n",
       "      <th>115</th>\n",
       "      <td>KZE_116.jpg</td>\n",
       "      <td>NaN</td>\n",
       "      <td>NaN</td>\n",
       "      <td>NaN</td>\n",
       "      <td>NaN</td>\n",
       "    </tr>\n",
       "    <tr>\n",
       "      <th>116</th>\n",
       "      <td>KZE_117.jpg</td>\n",
       "      <td>NaN</td>\n",
       "      <td>NaN</td>\n",
       "      <td>NaN</td>\n",
       "      <td>NaN</td>\n",
       "    </tr>\n",
       "    <tr>\n",
       "      <th>117</th>\n",
       "      <td>KZE_118.jpg</td>\n",
       "      <td>NaN</td>\n",
       "      <td>NaN</td>\n",
       "      <td>NaN</td>\n",
       "      <td>NaN</td>\n",
       "    </tr>\n",
       "  </tbody>\n",
       "</table>\n",
       "<p>118 rows × 5 columns</p>\n",
       "</div>"
      ],
      "text/plain": [
       "           Image Cropping Text_easyocr Text_pytesseract Text_label\n",
       "0    KZE_001.jpg      NaN          NaN              NaN        NaN\n",
       "1    KZE_002.jpg      NaN          NaN              NaN        NaN\n",
       "2    KZE_003.jpg      NaN          NaN              NaN        NaN\n",
       "3    KZE_004.jpg      NaN          NaN              NaN        NaN\n",
       "4    KZE_005.jpg      NaN          NaN              NaN        NaN\n",
       "..           ...      ...          ...              ...        ...\n",
       "113  KZE_114.jpg      NaN          NaN              NaN        NaN\n",
       "114  KZE_115.jpg      NaN          NaN              NaN        NaN\n",
       "115  KZE_116.jpg      NaN          NaN              NaN        NaN\n",
       "116  KZE_117.jpg      NaN          NaN              NaN        NaN\n",
       "117  KZE_118.jpg      NaN          NaN              NaN        NaN\n",
       "\n",
       "[118 rows x 5 columns]"
      ]
     },
     "execution_count": 4,
     "metadata": {},
     "output_type": "execute_result"
    }
   ],
   "source": [
    "df"
   ]
  },
  {
   "cell_type": "code",
   "execution_count": 5,
   "id": "8862cdb7",
   "metadata": {},
   "outputs": [],
   "source": [
    " pytesseract.pytesseract.tesseract_cmd = 'C:/Program Files/Tesseract-OCR/tesseract.exe'"
   ]
  },
  {
   "cell_type": "code",
   "execution_count": 6,
   "id": "4539734f",
   "metadata": {},
   "outputs": [
    {
     "name": "stderr",
     "output_type": "stream",
     "text": [
      "CUDA not available - defaulting to CPU. Note: This module is much faster with a GPU.\n"
     ]
    },
    {
     "name": "stdout",
     "output_type": "stream",
     "text": [
      "RESULT []\n",
      "---------------\n"
     ]
    },
    {
     "name": "stderr",
     "output_type": "stream",
     "text": [
      "CUDA not available - defaulting to CPU. Note: This module is much faster with a GPU.\n"
     ]
    },
    {
     "name": "stdout",
     "output_type": "stream",
     "text": [
      "RESULT []\n",
      "---------------\n",
      "Fehler Crop bei Bild D:/5_Integrationsseminar/Bilder/small/KZE_003.jpg\n"
     ]
    },
    {
     "name": "stderr",
     "output_type": "stream",
     "text": [
      "CUDA not available - defaulting to CPU. Note: This module is much faster with a GPU.\n"
     ]
    },
    {
     "name": "stdout",
     "output_type": "stream",
     "text": [
      "RESULT [([[47, 1], [693, 1], [693, 159], [47, 159]], 'MA8A114', 0.568732845261093)]\n",
      "---------------\n",
      "MA8A114\n",
      "Fehler Crop bei Bild D:/5_Integrationsseminar/Bilder/small/KZE_005.jpg\n"
     ]
    },
    {
     "name": "stderr",
     "output_type": "stream",
     "text": [
      "CUDA not available - defaulting to CPU. Note: This module is much faster with a GPU.\n"
     ]
    },
    {
     "name": "stdout",
     "output_type": "stream",
     "text": [
      "RESULT []\n",
      "---------------\n"
     ]
    },
    {
     "name": "stderr",
     "output_type": "stream",
     "text": [
      "CUDA not available - defaulting to CPU. Note: This module is much faster with a GPU.\n"
     ]
    },
    {
     "name": "stdout",
     "output_type": "stream",
     "text": [
      "RESULT []\n",
      "---------------\n"
     ]
    },
    {
     "name": "stderr",
     "output_type": "stream",
     "text": [
      "CUDA not available - defaulting to CPU. Note: This module is much faster with a GPU.\n"
     ]
    },
    {
     "name": "stdout",
     "output_type": "stream",
     "text": [
      "RESULT [([[0, 8], [172, 8], [172, 136], [0, 136]], 'MA', 0.9999644282451658), ([[227, 9], [644, 9], [644, 141], [227, 141]], 'LI174', 0.5399565355776345)]\n",
      "---------------\n",
      "MA\n",
      "LI174\n",
      "Fehler Crop bei Bild D:/5_Integrationsseminar/Bilder/small/KZE_009.jpg\n"
     ]
    },
    {
     "name": "stderr",
     "output_type": "stream",
     "text": [
      "CUDA not available - defaulting to CPU. Note: This module is much faster with a GPU.\n"
     ]
    },
    {
     "name": "stdout",
     "output_type": "stream",
     "text": [
      "RESULT []\n",
      "---------------\n"
     ]
    },
    {
     "name": "stderr",
     "output_type": "stream",
     "text": [
      "CUDA not available - defaulting to CPU. Note: This module is much faster with a GPU.\n"
     ]
    },
    {
     "name": "stdout",
     "output_type": "stream",
     "text": [
      "RESULT []\n",
      "---------------\n"
     ]
    },
    {
     "name": "stderr",
     "output_type": "stream",
     "text": [
      "CUDA not available - defaulting to CPU. Note: This module is much faster with a GPU.\n"
     ]
    },
    {
     "name": "stdout",
     "output_type": "stream",
     "text": [
      "RESULT [([[415.6115134176307, 35.191383189310294], [648.9342565324996, -3.0869973597712814], [660.3884865823693, 126.8086168106897], [428.0657434675004, 165.0869973597713]], '273', 0.9999125921072359), ([[242.9642176806275, 68.1387890685809], [413.5679623864115, 39.35489920200885], [427.03578231937246, 170.8612109314191], [255.4320376135885, 198.64510079799115]], 'GZ', 0.8949210706285247), ([[-13.803040133682257, 110.11659097064661], [183.32515180740705, 91.76951176787279], [186.80304013368226, 214.88340902935337], [-11.325151807407057, 233.23048823212721]], 'MA', 0.9999474011382327)]\n",
      "---------------\n",
      "273\n",
      "GZ\n",
      "MA\n"
     ]
    },
    {
     "ename": "KeyboardInterrupt",
     "evalue": "",
     "output_type": "error",
     "traceback": [
      "\u001b[1;31m---------------------------------------------------------------------------\u001b[0m",
      "\u001b[1;31mKeyboardInterrupt\u001b[0m                         Traceback (most recent call last)",
      "\u001b[1;32m~\\AppData\\Local\\Temp/ipykernel_39120/1503746711.py\u001b[0m in \u001b[0;36m<module>\u001b[1;34m\u001b[0m\n\u001b[0;32m     10\u001b[0m     \u001b[0mkeypoints\u001b[0m \u001b[1;33m=\u001b[0m \u001b[0mcv2\u001b[0m\u001b[1;33m.\u001b[0m\u001b[0mfindContours\u001b[0m\u001b[1;33m(\u001b[0m\u001b[0medged\u001b[0m\u001b[1;33m.\u001b[0m\u001b[0mcopy\u001b[0m\u001b[1;33m(\u001b[0m\u001b[1;33m)\u001b[0m\u001b[1;33m,\u001b[0m \u001b[0mcv2\u001b[0m\u001b[1;33m.\u001b[0m\u001b[0mRETR_TREE\u001b[0m\u001b[1;33m,\u001b[0m \u001b[0mcv2\u001b[0m\u001b[1;33m.\u001b[0m\u001b[0mCHAIN_APPROX_SIMPLE\u001b[0m\u001b[1;33m)\u001b[0m\u001b[1;33m\u001b[0m\u001b[1;33m\u001b[0m\u001b[0m\n\u001b[0;32m     11\u001b[0m     \u001b[0mcontours\u001b[0m \u001b[1;33m=\u001b[0m \u001b[0mimutils\u001b[0m\u001b[1;33m.\u001b[0m\u001b[0mgrab_contours\u001b[0m\u001b[1;33m(\u001b[0m\u001b[0mkeypoints\u001b[0m\u001b[1;33m)\u001b[0m\u001b[1;33m\u001b[0m\u001b[1;33m\u001b[0m\u001b[0m\n\u001b[1;32m---> 12\u001b[1;33m     \u001b[0mcontours\u001b[0m \u001b[1;33m=\u001b[0m \u001b[0msorted\u001b[0m\u001b[1;33m(\u001b[0m\u001b[0mcontours\u001b[0m\u001b[1;33m,\u001b[0m \u001b[0mkey\u001b[0m\u001b[1;33m=\u001b[0m\u001b[0mcv2\u001b[0m\u001b[1;33m.\u001b[0m\u001b[0mcontourArea\u001b[0m\u001b[1;33m,\u001b[0m \u001b[0mreverse\u001b[0m\u001b[1;33m=\u001b[0m\u001b[1;32mTrue\u001b[0m\u001b[1;33m)\u001b[0m\u001b[1;33m[\u001b[0m\u001b[1;33m:\u001b[0m\u001b[1;36m10\u001b[0m\u001b[1;33m]\u001b[0m\u001b[1;33m\u001b[0m\u001b[1;33m\u001b[0m\u001b[0m\n\u001b[0m\u001b[0;32m     13\u001b[0m     \u001b[0mlocation\u001b[0m \u001b[1;33m=\u001b[0m \u001b[1;32mNone\u001b[0m\u001b[1;33m\u001b[0m\u001b[1;33m\u001b[0m\u001b[0m\n\u001b[0;32m     14\u001b[0m     \u001b[1;32mfor\u001b[0m \u001b[0mcontour\u001b[0m \u001b[1;32min\u001b[0m \u001b[0mcontours\u001b[0m\u001b[1;33m:\u001b[0m\u001b[1;33m\u001b[0m\u001b[1;33m\u001b[0m\u001b[0m\n",
      "\u001b[1;31mKeyboardInterrupt\u001b[0m: "
     ]
    }
   ],
   "source": [
    "for i in images:\n",
    "    n+=1\n",
    "    path=(r\"D:/5_Integrationsseminar/Bilder/small/\"+i)\n",
    "    img = cv2.imread(path)\n",
    "    gray = cv2.cvtColor(img, cv2.COLOR_BGR2GRAY)\n",
    "    bfilter = cv2.bilateralFilter(gray, 11, 17, 17) #Noise reduction\n",
    "    edged = cv2.Canny(bfilter, 30, 100) #Edge detection\n",
    "    #plt.imshow(cv2.cvtColor(edged, cv2.COLOR_BGR2RGB))\n",
    "    #plt.show()\n",
    "    keypoints = cv2.findContours(edged.copy(), cv2.RETR_TREE, cv2.CHAIN_APPROX_SIMPLE)\n",
    "    contours = imutils.grab_contours(keypoints)\n",
    "    contours = sorted(contours, key=cv2.contourArea, reverse=True)[:10]\n",
    "    location = None\n",
    "    for contour in contours:\n",
    "        approx = cv2.approxPolyDP(contour, 10, True)\n",
    "        if len(approx) == 4:\n",
    "            location = approx\n",
    "            break\n",
    "\n",
    "    #print(location)\n",
    "\n",
    "\n",
    "    mask = np.zeros(gray.shape, np.uint8)\n",
    "    try:\n",
    "        new_image = cv2.drawContours(mask, [location], 0,255, -1)\n",
    "        new_image = cv2.bitwise_and(img, img, mask=mask)\n",
    "        #ab hier nummern\n",
    "        #plt.imshow(cv2.cvtColor(new_image, cv2.COLOR_BGR2RGB))\n",
    "        #plt.show()\n",
    "        \n",
    "        cv2.imwrite((r\"D:/5_Integrationsseminar/Bilder/cropping/\"+i+'_cropping.jpg'),cv2.cvtColor(new_image, cv2.COLOR_BGR2RGB))\n",
    "\n",
    "\n",
    "        (x,y) = np.where(mask==255)\n",
    "        (x1, y1) = (np.min(x), np.min(y))\n",
    "        (x2, y2) = (np.max(x), np.max(y))\n",
    "        cropped_image = gray[x1:x2+1, y1:y2+1]\n",
    "        df.iloc[n,1]=(\"Okay\")\n",
    "        \n",
    "        try:\n",
    "            reader = easyocr.Reader(['en'])\n",
    "            result = reader.readtext(cropped_image)\n",
    "            print('RESULT',result)\n",
    "            print(\"---------------\")\n",
    "\n",
    "            text=''\n",
    "            for x in result:\n",
    "                print(x[1])\n",
    "                text=text+x[1]\n",
    "            df.iloc[n,2]=text\n",
    "            \n",
    "            \n",
    "                \n",
    "        except:\n",
    "            print(\"Fehler OCR bei Bild\", path)\n",
    "            df.iloc[n,2]=\"Fehler_easyocr\"\n",
    "         \n",
    "            \n",
    "        \n",
    "    except:\n",
    "        print(\"Fehler Crop bei Bild\", path)\n",
    "        df.iloc[n,1]=\"Fehler_Crop\"\n",
    "        \n",
    "        \n",
    "    "
   ]
  },
  {
   "cell_type": "code",
   "execution_count": 11,
   "id": "db315f9b",
   "metadata": {},
   "outputs": [
    {
     "data": {
      "text/plain": [
       "['',\n",
       " '',\n",
       " nan,\n",
       " 'MA8A114',\n",
       " nan,\n",
       " '',\n",
       " '',\n",
       " 'MALI174',\n",
       " nan,\n",
       " '',\n",
       " '',\n",
       " '273GZMA',\n",
       " nan,\n",
       " nan,\n",
       " 'MAJh444406201 - 9949-0Weinhelm',\n",
       " '',\n",
       " '',\n",
       " nan,\n",
       " '',\n",
       " nan,\n",
       " '',\n",
       " nan,\n",
       " nan,\n",
       " nan,\n",
       " nan,\n",
       " 'OKde106EBERizford-ritzaWwwa',\n",
       " 'OKde106EBEBTzford-ritz-wwna',\n",
       " '',\n",
       " 'Q241MAcLandauautozotz',\n",
       " 'd0273MB~@btoyoTaMAWloyota-Zonttums\"GVOTA',\n",
       " nan,\n",
       " '',\n",
       " 'HdoPh2812',\n",
       " nan,\n",
       " nan,\n",
       " 'MAHT9]',\n",
       " '',\n",
       " nan,\n",
       " '',\n",
       " 'MATD111Wwmonnheimde',\n",
       " '',\n",
       " '',\n",
       " '',\n",
       " '',\n",
       " '',\n",
       " nan,\n",
       " '',\n",
       " '',\n",
       " '',\n",
       " 'SFMA3993TMANNHEIMZentruM _KiaZNST Grufde',\n",
       " '',\n",
       " '',\n",
       " nan,\n",
       " 'JHMAbbbl]19242006203Welnhein',\n",
       " '',\n",
       " 'MAOJOLVO208~ZentrumPETER GEISSER',\n",
       " '',\n",
       " nan,\n",
       " nan,\n",
       " 'NROAA721Toerster GmbhFoblenzTel: \"0261744011-0',\n",
       " '4l01188 22 725MunnhcimTomicIe0170',\n",
       " nan,\n",
       " nan,\n",
       " 'deMACH121ERNST~gruppe:',\n",
       " 'MACH181ErNStgruppo ',\n",
       " '',\n",
       " 'HIiyA',\n",
       " 'LLStHOJ4161 RotLeontBellemannAutohaus _',\n",
       " 'HDovk107smart comWWWa',\n",
       " 'HDSRL111360621037T05TMeslochOswald',\n",
       " '',\n",
       " 'WWW mobile de/Sohn-Roll',\n",
       " 'MXH524HDIngelhelmGmbxWagenhauser_nedes-Benz',\n",
       " '1J',\n",
       " nan,\n",
       " 'IJ',\n",
       " '',\n",
       " '',\n",
       " nan,\n",
       " 'Ih',\n",
       " nan,\n",
       " '',\n",
       " '',\n",
       " '',\n",
       " 'I',\n",
       " '',\n",
       " '',\n",
       " 'Wendenverbolen',\n",
       " '',\n",
       " '',\n",
       " nan,\n",
       " 'P',\n",
       " nan,\n",
       " '',\n",
       " nan,\n",
       " 'MPRX 3080',\n",
       " 'I',\n",
       " '',\n",
       " 'HDESL 1928Kack deJeep',\n",
       " 'KAHB4GDCFHARDENBEIG',\n",
       " nan,\n",
       " nan,\n",
       " '',\n",
       " 'HDUK107smartcomWWW:',\n",
       " 'HDLL 1416',\n",
       " 'HDSC4756313907261-5SinsheimKOBA',\n",
       " 'MAFB 181/Cars?U AutomobileTel. 06151-3654116',\n",
       " 'MAFA 80',\n",
       " nan,\n",
       " nan,\n",
       " 'MAJt 705',\n",
       " '',\n",
       " 'SPAt 29743894',\n",
       " 'MAGH2911rcedes-benz de',\n",
       " nan,\n",
       " 'MAEET23Iau0521-858084 ',\n",
       " nan,\n",
       " '']"
      ]
     },
     "execution_count": 11,
     "metadata": {},
     "output_type": "execute_result"
    }
   ],
   "source": [
    "df.Text_easyocr.tolist()"
   ]
  },
  {
   "cell_type": "code",
   "execution_count": 14,
   "id": "57212a37",
   "metadata": {},
   "outputs": [],
   "source": [
    "df.to_pickle(r\"D:/5_Integrationsseminar/Validation_df.pkl\")"
   ]
  },
  {
   "cell_type": "code",
   "execution_count": 8,
   "id": "695d98e8",
   "metadata": {},
   "outputs": [],
   "source": [
    "df_eval=pd.read_pickle(r\"D:/5_Integrationsseminar/Validation_df.pkl\")"
   ]
  },
  {
   "cell_type": "code",
   "execution_count": 9,
   "id": "a67830bd",
   "metadata": {},
   "outputs": [
    {
     "data": {
      "text/html": [
       "<div>\n",
       "<style scoped>\n",
       "    .dataframe tbody tr th:only-of-type {\n",
       "        vertical-align: middle;\n",
       "    }\n",
       "\n",
       "    .dataframe tbody tr th {\n",
       "        vertical-align: top;\n",
       "    }\n",
       "\n",
       "    .dataframe thead th {\n",
       "        text-align: right;\n",
       "    }\n",
       "</style>\n",
       "<table border=\"1\" class=\"dataframe\">\n",
       "  <thead>\n",
       "    <tr style=\"text-align: right;\">\n",
       "      <th></th>\n",
       "      <th>Image</th>\n",
       "      <th>Cropping</th>\n",
       "      <th>Text_easyocr</th>\n",
       "      <th>Text_pytesseract</th>\n",
       "      <th>Text_label</th>\n",
       "    </tr>\n",
       "  </thead>\n",
       "  <tbody>\n",
       "    <tr>\n",
       "      <th>0</th>\n",
       "      <td>KZE_001.jpg</td>\n",
       "      <td>Okay</td>\n",
       "      <td></td>\n",
       "      <td>NaN</td>\n",
       "      <td>NaN</td>\n",
       "    </tr>\n",
       "    <tr>\n",
       "      <th>1</th>\n",
       "      <td>KZE_002.jpg</td>\n",
       "      <td>Okay</td>\n",
       "      <td></td>\n",
       "      <td>NaN</td>\n",
       "      <td>NaN</td>\n",
       "    </tr>\n",
       "    <tr>\n",
       "      <th>2</th>\n",
       "      <td>KZE_003.jpg</td>\n",
       "      <td>Fehler_Crop</td>\n",
       "      <td>NaN</td>\n",
       "      <td>NaN</td>\n",
       "      <td>NaN</td>\n",
       "    </tr>\n",
       "    <tr>\n",
       "      <th>3</th>\n",
       "      <td>KZE_004.jpg</td>\n",
       "      <td>Okay</td>\n",
       "      <td>MA8A114</td>\n",
       "      <td>NaN</td>\n",
       "      <td>NaN</td>\n",
       "    </tr>\n",
       "    <tr>\n",
       "      <th>4</th>\n",
       "      <td>KZE_005.jpg</td>\n",
       "      <td>Fehler_Crop</td>\n",
       "      <td>NaN</td>\n",
       "      <td>NaN</td>\n",
       "      <td>NaN</td>\n",
       "    </tr>\n",
       "    <tr>\n",
       "      <th>...</th>\n",
       "      <td>...</td>\n",
       "      <td>...</td>\n",
       "      <td>...</td>\n",
       "      <td>...</td>\n",
       "      <td>...</td>\n",
       "    </tr>\n",
       "    <tr>\n",
       "      <th>113</th>\n",
       "      <td>KZE_114.jpg</td>\n",
       "      <td>Okay</td>\n",
       "      <td>MAGH2911rcedes-benz de</td>\n",
       "      <td>NaN</td>\n",
       "      <td>NaN</td>\n",
       "    </tr>\n",
       "    <tr>\n",
       "      <th>114</th>\n",
       "      <td>KZE_115.jpg</td>\n",
       "      <td>Fehler_Crop</td>\n",
       "      <td>NaN</td>\n",
       "      <td>NaN</td>\n",
       "      <td>NaN</td>\n",
       "    </tr>\n",
       "    <tr>\n",
       "      <th>115</th>\n",
       "      <td>KZE_116.jpg</td>\n",
       "      <td>Okay</td>\n",
       "      <td>MAEET23Iau0521-858084</td>\n",
       "      <td>NaN</td>\n",
       "      <td>NaN</td>\n",
       "    </tr>\n",
       "    <tr>\n",
       "      <th>116</th>\n",
       "      <td>KZE_117.jpg</td>\n",
       "      <td>Fehler_Crop</td>\n",
       "      <td>NaN</td>\n",
       "      <td>NaN</td>\n",
       "      <td>NaN</td>\n",
       "    </tr>\n",
       "    <tr>\n",
       "      <th>117</th>\n",
       "      <td>KZE_118.jpg</td>\n",
       "      <td>Okay</td>\n",
       "      <td></td>\n",
       "      <td>NaN</td>\n",
       "      <td>NaN</td>\n",
       "    </tr>\n",
       "  </tbody>\n",
       "</table>\n",
       "<p>118 rows × 5 columns</p>\n",
       "</div>"
      ],
      "text/plain": [
       "           Image     Cropping            Text_easyocr Text_pytesseract  \\\n",
       "0    KZE_001.jpg         Okay                                      NaN   \n",
       "1    KZE_002.jpg         Okay                                      NaN   \n",
       "2    KZE_003.jpg  Fehler_Crop                     NaN              NaN   \n",
       "3    KZE_004.jpg         Okay                 MA8A114              NaN   \n",
       "4    KZE_005.jpg  Fehler_Crop                     NaN              NaN   \n",
       "..           ...          ...                     ...              ...   \n",
       "113  KZE_114.jpg         Okay  MAGH2911rcedes-benz de              NaN   \n",
       "114  KZE_115.jpg  Fehler_Crop                     NaN              NaN   \n",
       "115  KZE_116.jpg         Okay  MAEET23Iau0521-858084               NaN   \n",
       "116  KZE_117.jpg  Fehler_Crop                     NaN              NaN   \n",
       "117  KZE_118.jpg         Okay                                      NaN   \n",
       "\n",
       "    Text_label  \n",
       "0          NaN  \n",
       "1          NaN  \n",
       "2          NaN  \n",
       "3          NaN  \n",
       "4          NaN  \n",
       "..         ...  \n",
       "113        NaN  \n",
       "114        NaN  \n",
       "115        NaN  \n",
       "116        NaN  \n",
       "117        NaN  \n",
       "\n",
       "[118 rows x 5 columns]"
      ]
     },
     "execution_count": 9,
     "metadata": {},
     "output_type": "execute_result"
    }
   ],
   "source": [
    "df_eval"
   ]
  },
  {
   "cell_type": "code",
   "execution_count": 16,
   "id": "88d12c00",
   "metadata": {},
   "outputs": [
    {
     "data": {
      "text/plain": [
       "85"
      ]
     },
     "execution_count": 16,
     "metadata": {},
     "output_type": "execute_result"
    }
   ],
   "source": [
    "df.Text_easyocr.count()"
   ]
  },
  {
   "cell_type": "code",
   "execution_count": null,
   "id": "190a895c",
   "metadata": {},
   "outputs": [],
   "source": [
    "text = str.upper(result[0][1])\n",
    "font = cv2.FONT_HERSHEY_SIMPLEX\n",
    "res = cv2.putText(img, text=text, org=(approx[0][0][0], approx[1][0][1]+60), fontFace=font, fontScale=1, color=(0,255,0), thickness=2, lineType=cv2.LINE_AA)\n",
    "res = cv2.rectangle(img, tuple(approx[0][0]), tuple(approx[2][0]), (0,255,0),3)\n",
    "plt.imshow(cv2.cvtColor(res, cv2.COLOR_BGR2RGB))\n",
    "plt.imsave(r\"D:\\5_Integrationsseminar\\Aufnahmen\\Result2.jpg\",cv2.cvtColor(res, cv2.COLOR_BGR2RGB))"
   ]
  },
  {
   "cell_type": "code",
   "execution_count": null,
   "id": "45cd0ed9",
   "metadata": {},
   "outputs": [],
   "source": [
    "# Perform text extraction\n",
    "invert=image\n",
    "data = pytesseract.image_to_string(invert, lang='eng', config='--psm 6')\n",
    "print(data)\n",
    "\n",
    "cv2.imshow('thresh', thresh)\n",
    "cv2.imshow('opening', opening)\n",
    "cv2.imshow('invert', invert)\n",
    "cv2.waitKey()\n",
    "\n",
    "for i in dic_ocr2:\n",
    "    if i<biggest_box_last_layer:\n",
    "        dic_ocr.pop(i)"
   ]
  },
  {
   "cell_type": "code",
   "execution_count": null,
   "id": "a0879acd",
   "metadata": {},
   "outputs": [],
   "source": [
    "file_path = cv2.imread(\"D:\\5_Integrationsseminar\\Aufnahmen\\cropped99.jpg\")\n",
    "im = Image.open(file_path)\n",
    "im.save(‘ocr.png’, dpi=(300, 300))\n",
    "i\n",
    "\n",
    "\n",
    "# Adding custom options\n",
    "custom_config = r'--oem 3 --psm 6'\n",
    "pytesseract.image_to_string('ocr', config=custom_config)"
   ]
  }
 ],
 "metadata": {
  "kernelspec": {
   "display_name": "Python 3",
   "language": "python",
   "name": "python3"
  },
  "language_info": {
   "codemirror_mode": {
    "name": "ipython",
    "version": 3
   },
   "file_extension": ".py",
   "mimetype": "text/x-python",
   "name": "python",
   "nbconvert_exporter": "python",
   "pygments_lexer": "ipython3",
   "version": "3.7.11"
  },
  "toc": {
   "base_numbering": 1,
   "nav_menu": {},
   "number_sections": true,
   "sideBar": true,
   "skip_h1_title": false,
   "title_cell": "Table of Contents",
   "title_sidebar": "Contents",
   "toc_cell": false,
   "toc_position": {},
   "toc_section_display": true,
   "toc_window_display": false
  },
  "varInspector": {
   "cols": {
    "lenName": 16,
    "lenType": 16,
    "lenVar": 40
   },
   "kernels_config": {
    "python": {
     "delete_cmd_postfix": "",
     "delete_cmd_prefix": "del ",
     "library": "var_list.py",
     "varRefreshCmd": "print(var_dic_list())"
    },
    "r": {
     "delete_cmd_postfix": ") ",
     "delete_cmd_prefix": "rm(",
     "library": "var_list.r",
     "varRefreshCmd": "cat(var_dic_list()) "
    }
   },
   "types_to_exclude": [
    "module",
    "function",
    "builtin_function_or_method",
    "instance",
    "_Feature"
   ],
   "window_display": false
  }
 },
 "nbformat": 4,
 "nbformat_minor": 5
}
